{
 "cells": [
  {
   "cell_type": "code",
   "execution_count": 129,
   "metadata": {},
   "outputs": [],
   "source": [
    "import pandas as pd\n",
    "from selenium import webdriver"
   ]
  },
  {
   "cell_type": "code",
   "execution_count": 130,
   "metadata": {},
   "outputs": [],
   "source": [
    "### 2. 웹브라우저 설정 및 브라우저 팝업"
   ]
  },
  {
   "cell_type": "code",
   "execution_count": 131,
   "metadata": {},
   "outputs": [],
   "source": [
    "options = webdriver.ChromeOptions()\n",
    "\n",
    "# 헤드리스 옵션 / 일반옵션\n",
    "# 헤드리스 = 브라우저를 띄우지 않고 작업\n",
    "options.add_argument(\"window-size=1920x1080\") \n",
    "# pypi.org\n",
    "\n",
    "driverLoc = \"../addon/chromedriver/chromedriver.exe\"\n",
    "\n",
    "driver = webdriver.Chrome(executable_path=driverLoc, options = options)\n",
    "\n",
    "# 웹페이지 파싱될때가지 최대 3초 기다림\n",
    "# driver.implicitly_wait(3)"
   ]
  },
  {
   "cell_type": "code",
   "execution_count": 132,
   "metadata": {},
   "outputs": [],
   "source": [
    "### 3. 브라우저 열기"
   ]
  },
  {
   "cell_type": "code",
   "execution_count": 133,
   "metadata": {},
   "outputs": [],
   "source": [
    "targeturl = \"http://www.ssg.com/\"\n",
    "\n",
    "driver.get(targeturl)\n",
    "\n",
    "##### '#'은 ID '.'은 클래스를 의미한다."
   ]
  },
  {
   "cell_type": "code",
   "execution_count": 134,
   "metadata": {},
   "outputs": [],
   "source": [
    "### 4. 브라우저 내 액션(클릭)"
   ]
  },
  {
   "cell_type": "code",
   "execution_count": 124,
   "metadata": {},
   "outputs": [],
   "source": [
    "from selenium.webdriver.common.action_chains import ActionChains\n",
    "from selenium.webdriver.common.keys import Keys\n",
    "\n",
    "Keywords = \"아이맥\"\n",
    "keywordPath = '//*[@id=\"ssg-query\"]'\n",
    "# 쌍따움표를 사용중이므로 홑따움표로 감싼다.\n",
    "keywordElement = driver.find_element_by_xpath(keywordPath)\n",
    "action = ActionChains(driver)\n",
    "action.move_to_element(keywordElement)\n",
    "\n",
    "action.click()\n",
    "\n",
    "# Keywords를 입력한다.\n",
    "action.send_keys(Keywords)\n",
    "\n",
    "action.send_keys(Keys.ENTER)\n",
    "\n",
    "action.perform()"
   ]
  },
  {
   "cell_type": "code",
   "execution_count": 125,
   "metadata": {},
   "outputs": [],
   "source": [
    "import time\n",
    "import bs4\n",
    "import requests"
   ]
  },
  {
   "cell_type": "code",
   "execution_count": null,
   "metadata": {},
   "outputs": [],
   "source": [
    "html = driver.page_source \n",
    "bs = bs4.BeautifulSoup(html, \"html.parser\")"
   ]
  },
  {
   "cell_type": "code",
   "execution_count": 135,
   "metadata": {},
   "outputs": [
    {
     "data": {
      "text/plain": [
       "[<button class=\"slide_next end\" type=\"button\"><span class=\"blind\">다음 슬라이드 보기</span></button>]"
      ]
     },
     "execution_count": 135,
     "metadata": {},
     "output_type": "execute_result"
    }
   ],
   "source": [
    "bs.findAll(name=\"button\", attrs={\"class\":\"slide_next end\"})"
   ]
  },
  {
   "cell_type": "code",
   "execution_count": 126,
   "metadata": {},
   "outputs": [],
   "source": [
    "NameList = []\n",
    "PriceList = []"
   ]
  },
  {
   "cell_type": "code",
   "execution_count": 136,
   "metadata": {},
   "outputs": [
    {
     "ename": "NoSuchElementException",
     "evalue": "Message: no such element: Unable to locate element: {\"method\":\"css selector\",\"selector\":\".slide_next end\"}\n  (Session info: chrome=90.0.4430.85)\n",
     "output_type": "error",
     "traceback": [
      "\u001b[1;31m---------------------------------------------------------------------------\u001b[0m",
      "\u001b[1;31mNoSuchElementException\u001b[0m                    Traceback (most recent call last)",
      "\u001b[1;32m<ipython-input-136-1db41da0ebcb>\u001b[0m in \u001b[0;36m<module>\u001b[1;34m\u001b[0m\n\u001b[0;32m     17\u001b[0m         \u001b[0mPriceList\u001b[0m\u001b[1;33m.\u001b[0m\u001b[0mappend\u001b[0m\u001b[1;33m(\u001b[0m\u001b[0mproductprice\u001b[0m\u001b[1;33m.\u001b[0m\u001b[0mtext\u001b[0m\u001b[1;33m)\u001b[0m\u001b[1;33m\u001b[0m\u001b[1;33m\u001b[0m\u001b[0m\n\u001b[0;32m     18\u001b[0m         \u001b[0mnextBtn\u001b[0m \u001b[1;33m=\u001b[0m \u001b[0mdriver\u001b[0m\u001b[1;33m.\u001b[0m\u001b[0mfind_element_by_class_name\u001b[0m\u001b[1;33m(\u001b[0m\u001b[1;34m\"slide_next\"\u001b[0m\u001b[1;33m)\u001b[0m\u001b[1;33m\u001b[0m\u001b[1;33m\u001b[0m\u001b[0m\n\u001b[1;32m---> 19\u001b[1;33m         \u001b[0mnextBtnend\u001b[0m \u001b[1;33m=\u001b[0m \u001b[0mdriver\u001b[0m\u001b[1;33m.\u001b[0m\u001b[0mfind_element_by_class_name\u001b[0m\u001b[1;33m(\u001b[0m\u001b[1;34m\"slide_next end\"\u001b[0m\u001b[1;33m)\u001b[0m\u001b[1;33m\u001b[0m\u001b[1;33m\u001b[0m\u001b[0m\n\u001b[0m\u001b[0;32m     20\u001b[0m     \u001b[1;32mif\u001b[0m \u001b[1;33m(\u001b[0m\u001b[0mbs\u001b[0m\u001b[1;33m.\u001b[0m\u001b[0mfindAll\u001b[0m\u001b[1;33m(\u001b[0m\u001b[0mname\u001b[0m\u001b[1;33m=\u001b[0m\u001b[1;34m\"button\"\u001b[0m\u001b[1;33m,\u001b[0m \u001b[0mattrs\u001b[0m\u001b[1;33m=\u001b[0m\u001b[1;33m{\u001b[0m\u001b[1;34m\"class\"\u001b[0m\u001b[1;33m:\u001b[0m\u001b[1;34m\"slide_next end\"\u001b[0m\u001b[1;33m}\u001b[0m\u001b[1;33m)\u001b[0m \u001b[1;33m>=\u001b[0m\u001b[1;36m1\u001b[0m\u001b[1;33m)\u001b[0m\u001b[1;33m:\u001b[0m\u001b[1;33m\u001b[0m\u001b[1;33m\u001b[0m\u001b[0m\n\u001b[0;32m     21\u001b[0m         \u001b[1;32mbreak\u001b[0m\u001b[1;33m\u001b[0m\u001b[1;33m\u001b[0m\u001b[0m\n",
      "\u001b[1;32m~\\Anaconda3\\lib\\site-packages\\selenium\\webdriver\\remote\\webdriver.py\u001b[0m in \u001b[0;36mfind_element_by_class_name\u001b[1;34m(self, name)\u001b[0m\n\u001b[0;32m    562\u001b[0m             \u001b[0melement\u001b[0m \u001b[1;33m=\u001b[0m \u001b[0mdriver\u001b[0m\u001b[1;33m.\u001b[0m\u001b[0mfind_element_by_class_name\u001b[0m\u001b[1;33m(\u001b[0m\u001b[1;34m'foo'\u001b[0m\u001b[1;33m)\u001b[0m\u001b[1;33m\u001b[0m\u001b[1;33m\u001b[0m\u001b[0m\n\u001b[0;32m    563\u001b[0m         \"\"\"\n\u001b[1;32m--> 564\u001b[1;33m         \u001b[1;32mreturn\u001b[0m \u001b[0mself\u001b[0m\u001b[1;33m.\u001b[0m\u001b[0mfind_element\u001b[0m\u001b[1;33m(\u001b[0m\u001b[0mby\u001b[0m\u001b[1;33m=\u001b[0m\u001b[0mBy\u001b[0m\u001b[1;33m.\u001b[0m\u001b[0mCLASS_NAME\u001b[0m\u001b[1;33m,\u001b[0m \u001b[0mvalue\u001b[0m\u001b[1;33m=\u001b[0m\u001b[0mname\u001b[0m\u001b[1;33m)\u001b[0m\u001b[1;33m\u001b[0m\u001b[1;33m\u001b[0m\u001b[0m\n\u001b[0m\u001b[0;32m    565\u001b[0m \u001b[1;33m\u001b[0m\u001b[0m\n\u001b[0;32m    566\u001b[0m     \u001b[1;32mdef\u001b[0m \u001b[0mfind_elements_by_class_name\u001b[0m\u001b[1;33m(\u001b[0m\u001b[0mself\u001b[0m\u001b[1;33m,\u001b[0m \u001b[0mname\u001b[0m\u001b[1;33m)\u001b[0m\u001b[1;33m:\u001b[0m\u001b[1;33m\u001b[0m\u001b[1;33m\u001b[0m\u001b[0m\n",
      "\u001b[1;32m~\\Anaconda3\\lib\\site-packages\\selenium\\webdriver\\remote\\webdriver.py\u001b[0m in \u001b[0;36mfind_element\u001b[1;34m(self, by, value)\u001b[0m\n\u001b[0;32m    974\u001b[0m                 \u001b[0mby\u001b[0m \u001b[1;33m=\u001b[0m \u001b[0mBy\u001b[0m\u001b[1;33m.\u001b[0m\u001b[0mCSS_SELECTOR\u001b[0m\u001b[1;33m\u001b[0m\u001b[1;33m\u001b[0m\u001b[0m\n\u001b[0;32m    975\u001b[0m                 \u001b[0mvalue\u001b[0m \u001b[1;33m=\u001b[0m \u001b[1;34m'[name=\"%s\"]'\u001b[0m \u001b[1;33m%\u001b[0m \u001b[0mvalue\u001b[0m\u001b[1;33m\u001b[0m\u001b[1;33m\u001b[0m\u001b[0m\n\u001b[1;32m--> 976\u001b[1;33m         return self.execute(Command.FIND_ELEMENT, {\n\u001b[0m\u001b[0;32m    977\u001b[0m             \u001b[1;34m'using'\u001b[0m\u001b[1;33m:\u001b[0m \u001b[0mby\u001b[0m\u001b[1;33m,\u001b[0m\u001b[1;33m\u001b[0m\u001b[1;33m\u001b[0m\u001b[0m\n\u001b[0;32m    978\u001b[0m             'value': value})['value']\n",
      "\u001b[1;32m~\\Anaconda3\\lib\\site-packages\\selenium\\webdriver\\remote\\webdriver.py\u001b[0m in \u001b[0;36mexecute\u001b[1;34m(self, driver_command, params)\u001b[0m\n\u001b[0;32m    319\u001b[0m         \u001b[0mresponse\u001b[0m \u001b[1;33m=\u001b[0m \u001b[0mself\u001b[0m\u001b[1;33m.\u001b[0m\u001b[0mcommand_executor\u001b[0m\u001b[1;33m.\u001b[0m\u001b[0mexecute\u001b[0m\u001b[1;33m(\u001b[0m\u001b[0mdriver_command\u001b[0m\u001b[1;33m,\u001b[0m \u001b[0mparams\u001b[0m\u001b[1;33m)\u001b[0m\u001b[1;33m\u001b[0m\u001b[1;33m\u001b[0m\u001b[0m\n\u001b[0;32m    320\u001b[0m         \u001b[1;32mif\u001b[0m \u001b[0mresponse\u001b[0m\u001b[1;33m:\u001b[0m\u001b[1;33m\u001b[0m\u001b[1;33m\u001b[0m\u001b[0m\n\u001b[1;32m--> 321\u001b[1;33m             \u001b[0mself\u001b[0m\u001b[1;33m.\u001b[0m\u001b[0merror_handler\u001b[0m\u001b[1;33m.\u001b[0m\u001b[0mcheck_response\u001b[0m\u001b[1;33m(\u001b[0m\u001b[0mresponse\u001b[0m\u001b[1;33m)\u001b[0m\u001b[1;33m\u001b[0m\u001b[1;33m\u001b[0m\u001b[0m\n\u001b[0m\u001b[0;32m    322\u001b[0m             response['value'] = self._unwrap_value(\n\u001b[0;32m    323\u001b[0m                 response.get('value', None))\n",
      "\u001b[1;32m~\\Anaconda3\\lib\\site-packages\\selenium\\webdriver\\remote\\errorhandler.py\u001b[0m in \u001b[0;36mcheck_response\u001b[1;34m(self, response)\u001b[0m\n\u001b[0;32m    240\u001b[0m                 \u001b[0malert_text\u001b[0m \u001b[1;33m=\u001b[0m \u001b[0mvalue\u001b[0m\u001b[1;33m[\u001b[0m\u001b[1;34m'alert'\u001b[0m\u001b[1;33m]\u001b[0m\u001b[1;33m.\u001b[0m\u001b[0mget\u001b[0m\u001b[1;33m(\u001b[0m\u001b[1;34m'text'\u001b[0m\u001b[1;33m)\u001b[0m\u001b[1;33m\u001b[0m\u001b[1;33m\u001b[0m\u001b[0m\n\u001b[0;32m    241\u001b[0m             \u001b[1;32mraise\u001b[0m \u001b[0mexception_class\u001b[0m\u001b[1;33m(\u001b[0m\u001b[0mmessage\u001b[0m\u001b[1;33m,\u001b[0m \u001b[0mscreen\u001b[0m\u001b[1;33m,\u001b[0m \u001b[0mstacktrace\u001b[0m\u001b[1;33m,\u001b[0m \u001b[0malert_text\u001b[0m\u001b[1;33m)\u001b[0m\u001b[1;33m\u001b[0m\u001b[1;33m\u001b[0m\u001b[0m\n\u001b[1;32m--> 242\u001b[1;33m         \u001b[1;32mraise\u001b[0m \u001b[0mexception_class\u001b[0m\u001b[1;33m(\u001b[0m\u001b[0mmessage\u001b[0m\u001b[1;33m,\u001b[0m \u001b[0mscreen\u001b[0m\u001b[1;33m,\u001b[0m \u001b[0mstacktrace\u001b[0m\u001b[1;33m)\u001b[0m\u001b[1;33m\u001b[0m\u001b[1;33m\u001b[0m\u001b[0m\n\u001b[0m\u001b[0;32m    243\u001b[0m \u001b[1;33m\u001b[0m\u001b[0m\n\u001b[0;32m    244\u001b[0m     \u001b[1;32mdef\u001b[0m \u001b[0m_value_or_default\u001b[0m\u001b[1;33m(\u001b[0m\u001b[0mself\u001b[0m\u001b[1;33m,\u001b[0m \u001b[0mobj\u001b[0m\u001b[1;33m,\u001b[0m \u001b[0mkey\u001b[0m\u001b[1;33m,\u001b[0m \u001b[0mdefault\u001b[0m\u001b[1;33m)\u001b[0m\u001b[1;33m:\u001b[0m\u001b[1;33m\u001b[0m\u001b[1;33m\u001b[0m\u001b[0m\n",
      "\u001b[1;31mNoSuchElementException\u001b[0m: Message: no such element: Unable to locate element: {\"method\":\"css selector\",\"selector\":\".slide_next end\"}\n  (Session info: chrome=90.0.4430.85)\n"
     ]
    }
   ],
   "source": [
    "while True:\n",
    "    time.sleep(1)\n",
    "#     페이지 소스 가져오기\n",
    "    html = driver.page_source \n",
    "    bs = bs4.BeautifulSoup(html, \"html.parser\")\n",
    "# 상품 리스트를 저장하기\n",
    "    productList = bs.findAll(name=\"li\", attrs={\"class\":\"cunit_t232\"})\n",
    "\n",
    "    NameList = []\n",
    "    PriceList = []\n",
    "    for i in range(0,len(productList)):\n",
    "        Nametags = productList[i].find(name=\"div\", attrs={\"class\":\"title\"})\n",
    "        productprice = productList[i].find(name=\"em\", attrs={\"class\":\"ssg_price\"})\n",
    "        productName = Nametags.find(name=\"em\", attrs={\"class\":\"tx_en\"})\n",
    "\n",
    "        NameList.append(productName.text)\n",
    "        PriceList.append(productprice.text)\n",
    "        nextBtn = driver.find_element_by_class_name(\"slide_next\")\n",
    "        nextBtnend = driver.find_element_by_class_name(\"slide_next end\")\n",
    "    if (bs.findAll(name=\"button\", attrs={\"class\":\"slide_next end\"}) >=1):\n",
    "        break\n",
    "    else:\n",
    "        nextBtn.click()\n",
    "    \n",
    "    # pd.DataFrame(zip(NameList,PriceList),columns = [\"제품명\",\"제품가격\"])"
   ]
  },
  {
   "cell_type": "code",
   "execution_count": null,
   "metadata": {},
   "outputs": [],
   "source": [
    "bs.find"
   ]
  },
  {
   "cell_type": "code",
   "execution_count": 104,
   "metadata": {},
   "outputs": [],
   "source": [
    "litags = productList[0].find(name=\"div\", attrs={\"class\":\"title\"})"
   ]
  },
  {
   "cell_type": "code",
   "execution_count": 105,
   "metadata": {},
   "outputs": [
    {
     "data": {
      "text/plain": [
       "<div class=\"title\">\n",
       "<strong class=\"brd\">\n",
       "<em class=\"tx_ko\">APPLE(애플)</em>\n",
       "<em class=\"tx_gl\">APPLE(애플)</em>\n",
       "</strong>\n",
       "<a class=\"clickable\" data-index=\"0\" data-info=\"1000051583415\" data-position=\"view\" data-unit=\"img\" href=\"/item/itemView.ssg?itemId=1000051583415&amp;siteNo=6004&amp;salestrNo=6005&amp;tlidSrchWd=아이맥&amp;srchPgNo=1&amp;src_area=ssglist\" target=\"_self\">\n",
       "<em class=\"tx_ko\">아이맥 27형 2020년 iMac - MXWV2KH/A</em>\n",
       "<em class=\"tx_en\">아이맥 27형 2020년 iMac - MXWV2KH/A</em>\n",
       "<em class=\"tx_zh\">아이맥 27형 2020년 iMac - MXWV2KH/A</em>\n",
       "</a>\n",
       "</div>"
      ]
     },
     "execution_count": 105,
     "metadata": {},
     "output_type": "execute_result"
    }
   ],
   "source": [
    "litags"
   ]
  },
  {
   "cell_type": "code",
   "execution_count": 106,
   "metadata": {},
   "outputs": [],
   "source": [
    "productName2 = litags.find(name=\"em\", attrs={\"class\":\"tx_en\"})"
   ]
  },
  {
   "cell_type": "code",
   "execution_count": 107,
   "metadata": {},
   "outputs": [],
   "source": [
    "productprice = productList[0].find(name=\"em\", attrs={\"class\":\"ssg_price\"})"
   ]
  },
  {
   "cell_type": "code",
   "execution_count": 108,
   "metadata": {},
   "outputs": [
    {
     "data": {
      "text/plain": [
       "'2,965,872'"
      ]
     },
     "execution_count": 108,
     "metadata": {},
     "output_type": "execute_result"
    }
   ],
   "source": [
    "productprice.text"
   ]
  },
  {
   "cell_type": "code",
   "execution_count": 109,
   "metadata": {},
   "outputs": [
    {
     "data": {
      "text/plain": [
       "100"
      ]
     },
     "execution_count": 109,
     "metadata": {},
     "output_type": "execute_result"
    }
   ],
   "source": [
    "len(productList)"
   ]
  },
  {
   "cell_type": "code",
   "execution_count": 110,
   "metadata": {},
   "outputs": [
    {
     "data": {
      "text/html": [
       "<div>\n",
       "<style scoped>\n",
       "    .dataframe tbody tr th:only-of-type {\n",
       "        vertical-align: middle;\n",
       "    }\n",
       "\n",
       "    .dataframe tbody tr th {\n",
       "        vertical-align: top;\n",
       "    }\n",
       "\n",
       "    .dataframe thead th {\n",
       "        text-align: right;\n",
       "    }\n",
       "</style>\n",
       "<table border=\"1\" class=\"dataframe\">\n",
       "  <thead>\n",
       "    <tr style=\"text-align: right;\">\n",
       "      <th></th>\n",
       "      <th>제품명</th>\n",
       "      <th>제품가격</th>\n",
       "    </tr>\n",
       "  </thead>\n",
       "  <tbody>\n",
       "    <tr>\n",
       "      <th>0</th>\n",
       "      <td>아이맥 27형 2020년 iMac - MXWV2KH/A</td>\n",
       "      <td>2,965,872</td>\n",
       "    </tr>\n",
       "    <tr>\n",
       "      <th>1</th>\n",
       "      <td>2020년 아이맥 27형 iMac MXWU2KH/A</td>\n",
       "      <td>2,604,644</td>\n",
       "    </tr>\n",
       "    <tr>\n",
       "      <th>2</th>\n",
       "      <td>아이맥 27형 고급형 (애플공식 CTO) MRR12KH/A (3.7Ghz/64GB/...</td>\n",
       "      <td>5,117,000</td>\n",
       "    </tr>\n",
       "    <tr>\n",
       "      <th>3</th>\n",
       "      <td>아이맥 27형 고급형 애플공식 CTO MRR12KH/A 실버 (메모리 64GB)</td>\n",
       "      <td>5,117,000</td>\n",
       "    </tr>\n",
       "    <tr>\n",
       "      <th>4</th>\n",
       "      <td>아이맥 27형 고급형 애플공식 CTO MRR12KH/A (메모리 64GB)</td>\n",
       "      <td>5,117,000</td>\n",
       "    </tr>\n",
       "    <tr>\n",
       "      <th>...</th>\n",
       "      <td>...</td>\n",
       "      <td>...</td>\n",
       "    </tr>\n",
       "    <tr>\n",
       "      <th>95</th>\n",
       "      <td>[B급 리퍼]★초경량 920g★애플 맥북 레티나 12인치 MF855KH/A (듀얼코...</td>\n",
       "      <td>699,000</td>\n",
       "    </tr>\n",
       "    <tr>\n",
       "      <th>96</th>\n",
       "      <td>애니클리어 프리미엄 노트북 모니터받침대 AP-7</td>\n",
       "      <td>29,800</td>\n",
       "    </tr>\n",
       "    <tr>\n",
       "      <th>97</th>\n",
       "      <td>위즈플랫 iMac용 알루미늄 4포트 USB3.0 허브 iHUB WIZ-H52 PRO</td>\n",
       "      <td>99,000</td>\n",
       "    </tr>\n",
       "    <tr>\n",
       "      <th>98</th>\n",
       "      <td>아이맥 SSD 쏘드라이브 하드 교체 업그레이드 256GB 512GB 1TB 2TB</td>\n",
       "      <td>89,800</td>\n",
       "    </tr>\n",
       "    <tr>\n",
       "      <th>99</th>\n",
       "      <td>[고든] 아이맥 전용 모니터암 UMA-2M</td>\n",
       "      <td>199,000</td>\n",
       "    </tr>\n",
       "  </tbody>\n",
       "</table>\n",
       "<p>100 rows × 2 columns</p>\n",
       "</div>"
      ],
      "text/plain": [
       "                                                  제품명       제품가격\n",
       "0                      아이맥 27형 2020년 iMac - MXWV2KH/A  2,965,872\n",
       "1                        2020년 아이맥 27형 iMac MXWU2KH/A  2,604,644\n",
       "2   아이맥 27형 고급형 (애플공식 CTO) MRR12KH/A (3.7Ghz/64GB/...  5,117,000\n",
       "3        아이맥 27형 고급형 애플공식 CTO MRR12KH/A 실버 (메모리 64GB)  5,117,000\n",
       "4           아이맥 27형 고급형 애플공식 CTO MRR12KH/A (메모리 64GB)  5,117,000\n",
       "..                                                ...        ...\n",
       "95  [B급 리퍼]★초경량 920g★애플 맥북 레티나 12인치 MF855KH/A (듀얼코...    699,000\n",
       "96                         애니클리어 프리미엄 노트북 모니터받침대 AP-7     29,800\n",
       "97     위즈플랫 iMac용 알루미늄 4포트 USB3.0 허브 iHUB WIZ-H52 PRO     99,000\n",
       "98      아이맥 SSD 쏘드라이브 하드 교체 업그레이드 256GB 512GB 1TB 2TB     89,800\n",
       "99                            [고든] 아이맥 전용 모니터암 UMA-2M    199,000\n",
       "\n",
       "[100 rows x 2 columns]"
      ]
     },
     "execution_count": 110,
     "metadata": {},
     "output_type": "execute_result"
    }
   ],
   "source": [
    "NameList = []\n",
    "PriceList = []\n",
    "for i in range(0,len(productList)):\n",
    "    Nametags = productList[i].find(name=\"div\", attrs={\"class\":\"title\"})\n",
    "    productprice = productList[i].find(name=\"em\", attrs={\"class\":\"ssg_price\"})\n",
    "    productName = Nametags.find(name=\"em\", attrs={\"class\":\"tx_en\"})\n",
    "    \n",
    "    NameList.append(productName.text)\n",
    "    PriceList.append(productprice.text)\n",
    "pd.DataFrame(zip(NameList,PriceList),columns = [\"제품명\",\"제품가격\"])"
   ]
  },
  {
   "cell_type": "code",
   "execution_count": 111,
   "metadata": {},
   "outputs": [
    {
     "data": {
      "text/html": [
       "<div>\n",
       "<style scoped>\n",
       "    .dataframe tbody tr th:only-of-type {\n",
       "        vertical-align: middle;\n",
       "    }\n",
       "\n",
       "    .dataframe tbody tr th {\n",
       "        vertical-align: top;\n",
       "    }\n",
       "\n",
       "    .dataframe thead th {\n",
       "        text-align: right;\n",
       "    }\n",
       "</style>\n",
       "<table border=\"1\" class=\"dataframe\">\n",
       "  <thead>\n",
       "    <tr style=\"text-align: right;\">\n",
       "      <th></th>\n",
       "      <th>제품명</th>\n",
       "      <th>가격</th>\n",
       "    </tr>\n",
       "  </thead>\n",
       "  <tbody>\n",
       "    <tr>\n",
       "      <th>0</th>\n",
       "      <td>아이맥 27형 2020년 iMac - MXWV2KH/A</td>\n",
       "      <td>2,965,872</td>\n",
       "    </tr>\n",
       "    <tr>\n",
       "      <th>1</th>\n",
       "      <td>2020년 아이맥 27형 iMac MXWU2KH/A</td>\n",
       "      <td>2,604,644</td>\n",
       "    </tr>\n",
       "    <tr>\n",
       "      <th>2</th>\n",
       "      <td>아이맥 27형 고급형 (애플공식 CTO) MRR12KH/A (3.7Ghz/64GB/...</td>\n",
       "      <td>5,117,000</td>\n",
       "    </tr>\n",
       "    <tr>\n",
       "      <th>3</th>\n",
       "      <td>아이맥 27형 고급형 애플공식 CTO MRR12KH/A 실버 (메모리 64GB)</td>\n",
       "      <td>5,117,000</td>\n",
       "    </tr>\n",
       "    <tr>\n",
       "      <th>4</th>\n",
       "      <td>아이맥 27형 고급형 애플공식 CTO MRR12KH/A (메모리 64GB)</td>\n",
       "      <td>5,117,000</td>\n",
       "    </tr>\n",
       "    <tr>\n",
       "      <th>...</th>\n",
       "      <td>...</td>\n",
       "      <td>...</td>\n",
       "    </tr>\n",
       "    <tr>\n",
       "      <th>95</th>\n",
       "      <td>[B급 리퍼]★초경량 920g★애플 맥북 레티나 12인치 MF855KH/A (듀얼코...</td>\n",
       "      <td>699,000</td>\n",
       "    </tr>\n",
       "    <tr>\n",
       "      <th>96</th>\n",
       "      <td>애니클리어 프리미엄 노트북 모니터받침대 AP-7</td>\n",
       "      <td>29,800</td>\n",
       "    </tr>\n",
       "    <tr>\n",
       "      <th>97</th>\n",
       "      <td>위즈플랫 iMac용 알루미늄 4포트 USB3.0 허브 iHUB WIZ-H52 PRO</td>\n",
       "      <td>99,000</td>\n",
       "    </tr>\n",
       "    <tr>\n",
       "      <th>98</th>\n",
       "      <td>아이맥 SSD 쏘드라이브 하드 교체 업그레이드 256GB 512GB 1TB 2TB</td>\n",
       "      <td>89,800</td>\n",
       "    </tr>\n",
       "    <tr>\n",
       "      <th>99</th>\n",
       "      <td>[고든] 아이맥 전용 모니터암 UMA-2M</td>\n",
       "      <td>199,000</td>\n",
       "    </tr>\n",
       "  </tbody>\n",
       "</table>\n",
       "<p>100 rows × 2 columns</p>\n",
       "</div>"
      ],
      "text/plain": [
       "                                                  제품명         가격\n",
       "0                      아이맥 27형 2020년 iMac - MXWV2KH/A  2,965,872\n",
       "1                        2020년 아이맥 27형 iMac MXWU2KH/A  2,604,644\n",
       "2   아이맥 27형 고급형 (애플공식 CTO) MRR12KH/A (3.7Ghz/64GB/...  5,117,000\n",
       "3        아이맥 27형 고급형 애플공식 CTO MRR12KH/A 실버 (메모리 64GB)  5,117,000\n",
       "4           아이맥 27형 고급형 애플공식 CTO MRR12KH/A (메모리 64GB)  5,117,000\n",
       "..                                                ...        ...\n",
       "95  [B급 리퍼]★초경량 920g★애플 맥북 레티나 12인치 MF855KH/A (듀얼코...    699,000\n",
       "96                         애니클리어 프리미엄 노트북 모니터받침대 AP-7     29,800\n",
       "97     위즈플랫 iMac용 알루미늄 4포트 USB3.0 허브 iHUB WIZ-H52 PRO     99,000\n",
       "98      아이맥 SSD 쏘드라이브 하드 교체 업그레이드 256GB 512GB 1TB 2TB     89,800\n",
       "99                            [고든] 아이맥 전용 모니터암 UMA-2M    199,000\n",
       "\n",
       "[100 rows x 2 columns]"
      ]
     },
     "execution_count": 111,
     "metadata": {},
     "output_type": "execute_result"
    }
   ],
   "source": [
    "columns = []\n",
    "rows = []\n",
    "for i in range(0,len(productList)):\n",
    "    Nametags = productList[i].find(name=\"div\", attrs={\"class\":\"title\"})\n",
    "    productprice = productList[i].find(name=\"em\", attrs={\"class\":\"ssg_price\"})\n",
    "    productName = Nametags.find(name=\"em\", attrs={\"class\":\"tx_en\"})\n",
    "    \n",
    "    columns.append(productName.text)\n",
    "    columns.append(productprice.text)\n",
    "    rows.append(columns)\n",
    "    columns = []\n",
    "# print(columns)   \n",
    "# print(rows)\n",
    "result = pd.DataFrame(rows)\n",
    "result.to_csv(\"./imac_result.csv\", index=False, encoding=\"ms949\")\n",
    "result.columns = [\"제품명\",\"가격\"]\n",
    "result\n",
    "# result.columns[\"목록\"]\n",
    "# result.columns[\"제품명\",\"가격\"]"
   ]
  },
  {
   "cell_type": "code",
   "execution_count": 117,
   "metadata": {},
   "outputs": [],
   "source": [
    "# 클래스 이름으로 검색\n",
    "nextBtn = driver.find_element_by_class_name(\"slide_next\")\n",
    "nextBtn.click()\n",
    "# nextBtnend = driver.find_element_by_class_name(\"slide_next end\")\n"
   ]
  },
  {
   "cell_type": "code",
   "execution_count": 115,
   "metadata": {},
   "outputs": [
    {
     "data": {
      "text/plain": [
       "<selenium.webdriver.remote.webelement.WebElement (session=\"561e16953e2b144305132830499221c8\", element=\"af1209a5-3b5d-48ff-9cd5-7c0a8b34e599\")>"
      ]
     },
     "execution_count": 115,
     "metadata": {},
     "output_type": "execute_result"
    }
   ],
   "source": [
    "nextBtnend"
   ]
  },
  {
   "cell_type": "code",
   "execution_count": 114,
   "metadata": {},
   "outputs": [],
   "source": [
    "nextBtn.click()"
   ]
  },
  {
   "cell_type": "code",
   "execution_count": 84,
   "metadata": {},
   "outputs": [],
   "source": [
    "nextBtnAttrs = nextBtn.get_attribute(\"class\")"
   ]
  },
  {
   "cell_type": "code",
   "execution_count": 86,
   "metadata": {},
   "outputs": [
    {
     "data": {
      "text/plain": [
       "str"
      ]
     },
     "execution_count": 86,
     "metadata": {},
     "output_type": "execute_result"
    }
   ],
   "source": [
    "type(nextBtnAttrs)"
   ]
  },
  {
   "cell_type": "code",
   "execution_count": 87,
   "metadata": {},
   "outputs": [
    {
     "data": {
      "text/plain": [
       "0"
      ]
     },
     "execution_count": 87,
     "metadata": {},
     "output_type": "execute_result"
    }
   ],
   "source": [
    "nextBtnAttrs.count(\"end\")"
   ]
  },
  {
   "cell_type": "code",
   "execution_count": 9,
   "metadata": {},
   "outputs": [],
   "source": [
    "import requests, bs4\n",
    "import pandas as pd\n",
    "#웹페이지 html 소스 가져오기\n",
    "resp = requests.get(\"https://sparkkorea.com/%ed%80%b4%ec%a6%88/\")\n",
    "resp.encoding='utf-8'\n",
    "html = resp.text\n",
    "htmlobj = bs4.BeautifulSoup(html, 'html.parser')\n",
    "tableTag = htmlobj.find(name='div',attrs = {\"class\":\"class_spark_quiz\"})\n",
    "aTag = tableTag.findAll(name='a')\n",
    "rows = []\n",
    "columns = []\n",
    "for i in range(0,len(aTag)):\n",
    "    sub = aTag[i].text\n",
    "    url = aTag[i].attrs[\"href\"]\n",
    "    for j in range(0,len(aTag[i])):\n",
    "        columns.append(sub)\n",
    "        columns.append(url)\n",
    "        rows.append(columns)\n",
    "    columns = []\n",
    "result = pd.DataFrame(rows)\n",
    "result.columns = ['과정', '주소']\n",
    "result.to_csv(\"./quiz_result.csv\", index=False, encoding=\"ms949\")"
   ]
  },
  {
   "cell_type": "code",
   "execution_count": 3,
   "metadata": {},
   "outputs": [
    {
     "data": {
      "text/plain": [
       "<div class=\"class_spark_quiz\" id=\"id_spark_quiz\">\n",
       "<h1>Spark 퀴즈 </h1>\n",
       "<a href=\"https://forms.gle/Fw49w9GhWQChDcZm7\"> 6/13 Spark 심화과정 </a>\n",
       "<p></p>\n",
       "<a href=\"https://forms.gle/G4TcXm3fKuHLHA6D6\"> 6/13 Spark 기본과정 </a>\n",
       "<p></p>\n",
       "<a href=\"https://forms.gle/M8gr1kC2ubA3UDVp8\"> 6/18 Spark [MAP_FILTER] </a>\n",
       "<p></p>\n",
       "<a href=\"https://forms.gle/h8w5mZ4MNaPLCPbi6\"> 6/18 Spark GroupBy 심화 </a>\n",
       "<p></p>\n",
       "<a href=\"https://forms.gle/q5yL6QHfueDLM5w27\"> 6/25 Spark RDD 실전 분석 </a>\n",
       "<p></p>\n",
       "<a href=\"https://forms.gle/Gxb4y6LfVYiaLu4M7\"> 6/27 Spark RDD 실전 분석2 </a>\n",
       "<p></p>\n",
       "</div>"
      ]
     },
     "execution_count": 3,
     "metadata": {},
     "output_type": "execute_result"
    }
   ],
   "source": [
    "tableTag"
   ]
  },
  {
   "cell_type": "code",
   "execution_count": 4,
   "metadata": {},
   "outputs": [],
   "source": [
    "aTag = tableTag.findAll(name='a')\n",
    "# aTag = tableTag.findAll(name='a',attrs = {\"href\"})"
   ]
  },
  {
   "cell_type": "code",
   "execution_count": 5,
   "metadata": {},
   "outputs": [
    {
     "data": {
      "text/plain": [
       "[<a href=\"https://forms.gle/Fw49w9GhWQChDcZm7\"> 6/13 Spark 심화과정 </a>,\n",
       " <a href=\"https://forms.gle/G4TcXm3fKuHLHA6D6\"> 6/13 Spark 기본과정 </a>,\n",
       " <a href=\"https://forms.gle/M8gr1kC2ubA3UDVp8\"> 6/18 Spark [MAP_FILTER] </a>,\n",
       " <a href=\"https://forms.gle/h8w5mZ4MNaPLCPbi6\"> 6/18 Spark GroupBy 심화 </a>,\n",
       " <a href=\"https://forms.gle/q5yL6QHfueDLM5w27\"> 6/25 Spark RDD 실전 분석 </a>,\n",
       " <a href=\"https://forms.gle/Gxb4y6LfVYiaLu4M7\"> 6/27 Spark RDD 실전 분석2 </a>]"
      ]
     },
     "execution_count": 5,
     "metadata": {},
     "output_type": "execute_result"
    }
   ],
   "source": [
    "aTag"
   ]
  },
  {
   "cell_type": "code",
   "execution_count": 13,
   "metadata": {},
   "outputs": [
    {
     "data": {
      "text/plain": [
       "1"
      ]
     },
     "execution_count": 13,
     "metadata": {},
     "output_type": "execute_result"
    }
   ],
   "source": [
    "sub = aTag[0].text\n",
    "sub\n",
    "aTag[0].attrs[\"href\"]\n",
    "len(aTag[0])"
   ]
  },
  {
   "cell_type": "code",
   "execution_count": 46,
   "metadata": {},
   "outputs": [
    {
     "data": {
      "text/html": [
       "<div>\n",
       "<style scoped>\n",
       "    .dataframe tbody tr th:only-of-type {\n",
       "        vertical-align: middle;\n",
       "    }\n",
       "\n",
       "    .dataframe tbody tr th {\n",
       "        vertical-align: top;\n",
       "    }\n",
       "\n",
       "    .dataframe thead th {\n",
       "        text-align: right;\n",
       "    }\n",
       "</style>\n",
       "<table border=\"1\" class=\"dataframe\">\n",
       "  <thead>\n",
       "    <tr style=\"text-align: right;\">\n",
       "      <th></th>\n",
       "      <th>과정</th>\n",
       "      <th>url</th>\n",
       "    </tr>\n",
       "  </thead>\n",
       "  <tbody>\n",
       "    <tr>\n",
       "      <th>0</th>\n",
       "      <td>6/13 Spark 심화과정</td>\n",
       "      <td>https://forms.gle/Fw49w9GhWQChDcZm7</td>\n",
       "    </tr>\n",
       "    <tr>\n",
       "      <th>1</th>\n",
       "      <td>6/13 Spark 기본과정</td>\n",
       "      <td>https://forms.gle/G4TcXm3fKuHLHA6D6</td>\n",
       "    </tr>\n",
       "    <tr>\n",
       "      <th>2</th>\n",
       "      <td>6/18 Spark [MAP_FILTER]</td>\n",
       "      <td>https://forms.gle/M8gr1kC2ubA3UDVp8</td>\n",
       "    </tr>\n",
       "    <tr>\n",
       "      <th>3</th>\n",
       "      <td>6/18 Spark GroupBy 심화</td>\n",
       "      <td>https://forms.gle/h8w5mZ4MNaPLCPbi6</td>\n",
       "    </tr>\n",
       "    <tr>\n",
       "      <th>4</th>\n",
       "      <td>6/25 Spark RDD 실전 분석</td>\n",
       "      <td>https://forms.gle/q5yL6QHfueDLM5w27</td>\n",
       "    </tr>\n",
       "    <tr>\n",
       "      <th>5</th>\n",
       "      <td>6/27 Spark RDD 실전 분석2</td>\n",
       "      <td>https://forms.gle/Gxb4y6LfVYiaLu4M7</td>\n",
       "    </tr>\n",
       "  </tbody>\n",
       "</table>\n",
       "</div>"
      ],
      "text/plain": [
       "                          과정                                  url\n",
       "0           6/13 Spark 심화과정   https://forms.gle/Fw49w9GhWQChDcZm7\n",
       "1           6/13 Spark 기본과정   https://forms.gle/G4TcXm3fKuHLHA6D6\n",
       "2   6/18 Spark [MAP_FILTER]   https://forms.gle/M8gr1kC2ubA3UDVp8\n",
       "3     6/18 Spark GroupBy 심화   https://forms.gle/h8w5mZ4MNaPLCPbi6\n",
       "4      6/25 Spark RDD 실전 분석   https://forms.gle/q5yL6QHfueDLM5w27\n",
       "5     6/27 Spark RDD 실전 분석2   https://forms.gle/Gxb4y6LfVYiaLu4M7"
      ]
     },
     "execution_count": 46,
     "metadata": {},
     "output_type": "execute_result"
    }
   ],
   "source": [
    "rows = []\n",
    "columns = []\n",
    "for i in range(0,len(aTag)):\n",
    "    sub = aTag[i].text\n",
    "    url = aTag[i].attrs[\"href\"]\n",
    "    columns.append(sub)\n",
    "    columns.append(url)\n",
    "    rows.append(columns)\n",
    "    columns = []\n",
    "result = pd.DataFrame(rows)\n",
    "result.columns = ['과정', 'url']\n",
    "result"
   ]
  },
  {
   "cell_type": "code",
   "execution_count": 18,
   "metadata": {},
   "outputs": [],
   "source": [
    "columns = []\n",
    "for j in range(0,len(aTag[i])):\n",
    "        columns.append(sub)\n",
    "        columns.append(url)\n",
    "#     columns = []"
   ]
  },
  {
   "cell_type": "code",
   "execution_count": 19,
   "metadata": {},
   "outputs": [
    {
     "name": "stdout",
     "output_type": "stream",
     "text": [
      "[' 6/13 Spark 심화과정 ', 'https://forms.gle/Fw49w9GhWQChDcZm7']\n"
     ]
    }
   ],
   "source": [
    "print(columns)"
   ]
  },
  {
   "cell_type": "code",
   "execution_count": null,
   "metadata": {},
   "outputs": [],
   "source": []
  }
 ],
 "metadata": {
  "kernelspec": {
   "display_name": "Python 3",
   "language": "python",
   "name": "python3"
  },
  "language_info": {
   "codemirror_mode": {
    "name": "ipython",
    "version": 3
   },
   "file_extension": ".py",
   "mimetype": "text/x-python",
   "name": "python",
   "nbconvert_exporter": "python",
   "pygments_lexer": "ipython3",
   "version": "3.8.3"
  }
 },
 "nbformat": 4,
 "nbformat_minor": 4
}
