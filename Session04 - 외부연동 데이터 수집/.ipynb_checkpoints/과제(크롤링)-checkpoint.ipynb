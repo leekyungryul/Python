{
 "cells": [
  {
   "cell_type": "code",
   "execution_count": 63,
   "metadata": {},
   "outputs": [],
   "source": [
    "# 1. 라이브러리 선언\n",
    "import requests, bs4\n",
    "import pandas as pd\n",
    "headers = {'User-Agent': 'Mozilla/5.0 (Macintosh; Intel Mac OS X 10.14; rv:71.0) Gecko/20100101 Firefox/71.0'}"
   ]
  },
  {
   "cell_type": "code",
   "execution_count": 69,
   "metadata": {},
   "outputs": [],
   "source": [
    "# 2. 웹페이지 소스 가져오기\n",
    "url = \"https://www.ssfshop.com/public/search/search/view?dspCtgryNo=&brandShopNo=&brndShopId=&etcCtgryNo=&ctgrySectCd=&keyword=%EB%A9%94%EC%A2%85%ED%82%A4%EC%B8%A0%EB%84%A4&recomSmtFlterVal=&leftBrandNM=\"\n",
    "response = requests.get(url, headers=headers)\n",
    "response.encoding = \"utf-8\""
   ]
  },
  {
   "cell_type": "code",
   "execution_count": 70,
   "metadata": {},
   "outputs": [
    {
     "data": {
      "text/plain": [
       "<Response [200]>"
      ]
     },
     "execution_count": 70,
     "metadata": {},
     "output_type": "execute_result"
    }
   ],
   "source": [
    "html = response.text\n",
    "\n",
    "# 3. 필요한 태그부분 가져오기\n",
    "htmlobj = bs4.BeautifulSoup(html, 'html.parser')\n",
    "response"
   ]
  },
  {
   "cell_type": "code",
   "execution_count": 111,
   "metadata": {},
   "outputs": [
    {
     "data": {
      "text/plain": [
       "'Men Tee-Shirt Fox Head Patch - White'"
      ]
     },
     "execution_count": 111,
     "metadata": {},
     "output_type": "execute_result"
    }
   ],
   "source": [
    "total = htmlobj.find(\"div\",{\"id\":\"searchGoodsList\"})\n",
    "# total1 = total.findAll(\"ul\")\n",
    "product = total.findAll(\"span\",{\"class\":\"name\"})\n",
    "(product[3].text)[12:]"
   ]
  },
  {
   "cell_type": "code",
   "execution_count": 74,
   "metadata": {},
   "outputs": [
    {
     "data": {
      "text/plain": [
       "[]"
      ]
     },
     "execution_count": 74,
     "metadata": {},
     "output_type": "execute_result"
    }
   ],
   "source": [
    "product = total1[0].findAll(\"span\",{\"class\":\"name\"})\n",
    "product"
   ]
  },
  {
   "cell_type": "code",
   "execution_count": 73,
   "metadata": {},
   "outputs": [
    {
     "ename": "IndexError",
     "evalue": "list index out of range",
     "output_type": "error",
     "traceback": [
      "\u001b[1;31m---------------------------------------------------------------------------\u001b[0m",
      "\u001b[1;31mIndexError\u001b[0m                                Traceback (most recent call last)",
      "\u001b[1;32m<ipython-input-73-25fc8a6dae8e>\u001b[0m in \u001b[0;36m<module>\u001b[1;34m\u001b[0m\n\u001b[1;32m----> 1\u001b[1;33m \u001b[0mproduct\u001b[0m\u001b[1;33m[\u001b[0m\u001b[1;36m0\u001b[0m\u001b[1;33m]\u001b[0m\u001b[1;33m.\u001b[0m\u001b[0mtext\u001b[0m\u001b[1;33m.\u001b[0m\u001b[0mreplace\u001b[0m\u001b[1;33m(\u001b[0m\u001b[1;34m\" \"\u001b[0m\u001b[1;33m,\u001b[0m\u001b[1;34m\"\"\u001b[0m\u001b[1;33m)\u001b[0m\u001b[1;33m\u001b[0m\u001b[1;33m\u001b[0m\u001b[0m\n\u001b[0m",
      "\u001b[1;31mIndexError\u001b[0m: list index out of range"
     ]
    }
   ],
   "source": [
    "product[0].text.replace(\" \",\"\")"
   ]
  },
  {
   "cell_type": "code",
   "execution_count": 43,
   "metadata": {},
   "outputs": [
    {
     "ename": "KeyError",
     "evalue": "0",
     "output_type": "error",
     "traceback": [
      "\u001b[1;31m---------------------------------------------------------------------------\u001b[0m",
      "\u001b[1;31mKeyError\u001b[0m                                  Traceback (most recent call last)",
      "\u001b[1;32m<ipython-input-43-6f869526782f>\u001b[0m in \u001b[0;36m<module>\u001b[1;34m\u001b[0m\n\u001b[0;32m      1\u001b[0m \u001b[0mtotal\u001b[0m \u001b[1;33m=\u001b[0m \u001b[0mhtmlobj\u001b[0m\u001b[1;33m.\u001b[0m\u001b[0mfind\u001b[0m\u001b[1;33m(\u001b[0m\u001b[1;34m\"ul\"\u001b[0m\u001b[1;33m,\u001b[0m\u001b[1;33m{\u001b[0m\u001b[1;34m\"id\"\u001b[0m\u001b[1;33m:\u001b[0m\u001b[1;34m\"idProductImg\"\u001b[0m\u001b[1;33m}\u001b[0m\u001b[1;33m)\u001b[0m\u001b[1;33m\u001b[0m\u001b[1;33m\u001b[0m\u001b[0m\n\u001b[0;32m      2\u001b[0m \u001b[0mproduct\u001b[0m \u001b[1;33m=\u001b[0m \u001b[0mtotal\u001b[0m\u001b[1;33m.\u001b[0m\u001b[0mfind\u001b[0m\u001b[1;33m(\u001b[0m\u001b[1;34m\"div\"\u001b[0m\u001b[1;33m,\u001b[0m\u001b[1;33m{\u001b[0m\u001b[1;34m\"class\"\u001b[0m\u001b[1;33m:\u001b[0m\u001b[1;34m\"org_price\"\u001b[0m\u001b[1;33m}\u001b[0m\u001b[1;33m)\u001b[0m\u001b[1;33m\u001b[0m\u001b[1;33m\u001b[0m\u001b[0m\n\u001b[1;32m----> 3\u001b[1;33m \u001b[0mproduct\u001b[0m\u001b[1;33m[\u001b[0m\u001b[1;36m0\u001b[0m\u001b[1;33m]\u001b[0m\u001b[1;33m.\u001b[0m\u001b[0mtext\u001b[0m\u001b[1;33m.\u001b[0m\u001b[0mreplace\u001b[0m\u001b[1;33m(\u001b[0m\u001b[1;34m\" \"\u001b[0m\u001b[1;33m,\u001b[0m\u001b[1;34m\"\"\u001b[0m\u001b[1;33m)\u001b[0m\u001b[1;33m\u001b[0m\u001b[1;33m\u001b[0m\u001b[0m\n\u001b[0m",
      "\u001b[1;32m~\\Anaconda3\\lib\\site-packages\\bs4\\element.py\u001b[0m in \u001b[0;36m__getitem__\u001b[1;34m(self, key)\u001b[0m\n\u001b[0;32m   1399\u001b[0m         \"\"\"tag[key] returns the value of the 'key' attribute for the Tag,\n\u001b[0;32m   1400\u001b[0m         and throws an exception if it's not there.\"\"\"\n\u001b[1;32m-> 1401\u001b[1;33m         \u001b[1;32mreturn\u001b[0m \u001b[0mself\u001b[0m\u001b[1;33m.\u001b[0m\u001b[0mattrs\u001b[0m\u001b[1;33m[\u001b[0m\u001b[0mkey\u001b[0m\u001b[1;33m]\u001b[0m\u001b[1;33m\u001b[0m\u001b[1;33m\u001b[0m\u001b[0m\n\u001b[0m\u001b[0;32m   1402\u001b[0m \u001b[1;33m\u001b[0m\u001b[0m\n\u001b[0;32m   1403\u001b[0m     \u001b[1;32mdef\u001b[0m \u001b[0m__iter__\u001b[0m\u001b[1;33m(\u001b[0m\u001b[0mself\u001b[0m\u001b[1;33m)\u001b[0m\u001b[1;33m:\u001b[0m\u001b[1;33m\u001b[0m\u001b[1;33m\u001b[0m\u001b[0m\n",
      "\u001b[1;31mKeyError\u001b[0m: 0"
     ]
    }
   ],
   "source": [
    "\n",
    "total = htmlobj.find(\"ul\",{\"id\":\"idProductImg\"})\n",
    "product = total.find(\"div\",{\"class\":\"org_price\"})\n",
    "# product[0].text.replace(\" \",\"\")"
   ]
  },
  {
   "cell_type": "code",
   "execution_count": null,
   "metadata": {},
   "outputs": [],
   "source": []
  },
  {
   "cell_type": "code",
   "execution_count": 28,
   "metadata": {},
   "outputs": [
    {
     "data": {
      "text/plain": [
       "[<div class=\"org_price\">\n",
       " <span class=\"blind\">판매가</span>\n",
       " <em class=\"ssg_price\">153,550</em>\n",
       " <span class=\"ssg_tx\">원</span>\n",
       " </div>]"
      ]
     },
     "execution_count": 28,
     "metadata": {},
     "output_type": "execute_result"
    }
   ],
   "source": [
    "price = "
   ]
  },
  {
   "cell_type": "code",
   "execution_count": 54,
   "metadata": {},
   "outputs": [],
   "source": [
    "divTag1 = htmlObj.findAll(name = \"div\",attrs={\"id\": \"area_searchItemList\"})\n",
    "priceValue = []\n",
    "# for i in range(0,len(divTag1)):\n",
    "emprice = divTag1[0].findAll(name = \"em\", attrs = {\"class\":\"ssg_price\"})\n",
    "#     for j in range(0,len(emprice)):\n",
    "priceValue.append(emprice[0].text)"
   ]
  },
  {
   "cell_type": "code",
   "execution_count": 55,
   "metadata": {},
   "outputs": [
    {
     "data": {
      "text/plain": [
       "['138,195']"
      ]
     },
     "execution_count": 55,
     "metadata": {},
     "output_type": "execute_result"
    }
   ],
   "source": [
    "priceValue"
   ]
  },
  {
   "cell_type": "code",
   "execution_count": 57,
   "metadata": {},
   "outputs": [
    {
     "data": {
      "text/plain": [
       "[<em class=\"ssg_price\">138,195</em>,\n",
       " <em class=\"ssg_price\">153,550</em>,\n",
       " <em class=\"ssg_price\">70,748</em>,\n",
       " <em class=\"ssg_price\">76,900</em>,\n",
       " <em class=\"ssg_price\">4,050</em>,\n",
       " <em class=\"ssg_price\">4,500</em>,\n",
       " <em class=\"ssg_price\">84,213</em>,\n",
       " <em class=\"ssg_price\">93,570</em>,\n",
       " <em class=\"ssg_price\">84,213</em>,\n",
       " <em class=\"ssg_price\">93,570</em>,\n",
       " <em class=\"ssg_price\">84,213</em>,\n",
       " <em class=\"ssg_price\">93,570</em>,\n",
       " <em class=\"ssg_price\">124,749</em>,\n",
       " <em class=\"ssg_price\">138,610</em>,\n",
       " <em class=\"ssg_price\">3,348</em>,\n",
       " <em class=\"ssg_price\">3,600</em>,\n",
       " <em class=\"ssg_price\">1,380,000</em>,\n",
       " <em class=\"ssg_price\">107,298</em>,\n",
       " <em class=\"ssg_price\">119,220</em>,\n",
       " <em class=\"ssg_price\">739,986</em>,\n",
       " <em class=\"ssg_price\">838,320</em>,\n",
       " <em class=\"ssg_price\">107,298</em>,\n",
       " <em class=\"ssg_price\">119,220</em>,\n",
       " <em class=\"ssg_price\">130,320</em>,\n",
       " <em class=\"ssg_price\">144,800</em>,\n",
       " <em class=\"ssg_price\">398,000</em>,\n",
       " <em class=\"ssg_price\">121,410</em>,\n",
       " <em class=\"ssg_price\">134,900</em>,\n",
       " <em class=\"ssg_price\">168,156</em>,\n",
       " <em class=\"ssg_price\">186,840</em>,\n",
       " <em class=\"ssg_price\">275,112</em>,\n",
       " <em class=\"ssg_price\">305,680</em>,\n",
       " <em class=\"ssg_price\">250,749</em>,\n",
       " <em class=\"ssg_price\">278,610</em>,\n",
       " <em class=\"ssg_price\">121,410</em>,\n",
       " <em class=\"ssg_price\">134,900</em>,\n",
       " <em class=\"ssg_price\">217,521</em>,\n",
       " <em class=\"ssg_price\">241,690</em>,\n",
       " <em class=\"ssg_price\">140,346</em>,\n",
       " <em class=\"ssg_price\">155,940</em>,\n",
       " <em class=\"ssg_price\">107,298</em>,\n",
       " <em class=\"ssg_price\">119,220</em>,\n",
       " <em class=\"ssg_price\">3,033</em>,\n",
       " <em class=\"ssg_price\">3,370</em>,\n",
       " <em class=\"ssg_price\">156,717</em>,\n",
       " <em class=\"ssg_price\">174,130</em>,\n",
       " <em class=\"ssg_price\">125,082</em>,\n",
       " <em class=\"ssg_price\">138,980</em>,\n",
       " <em class=\"ssg_price\">162,585</em>,\n",
       " <em class=\"ssg_price\">180,650</em>,\n",
       " <em class=\"ssg_price\">252,837</em>,\n",
       " <em class=\"ssg_price\">280,930</em>,\n",
       " <em class=\"ssg_price\">46,350</em>,\n",
       " <em class=\"ssg_price\">51,500</em>,\n",
       " <em class=\"ssg_price\">2,403</em>,\n",
       " <em class=\"ssg_price\">2,670</em>,\n",
       " <em class=\"ssg_price\">122,094</em>,\n",
       " <em class=\"ssg_price\">135,660</em>,\n",
       " <em class=\"ssg_price\">188,235</em>,\n",
       " <em class=\"ssg_price\">209,150</em>,\n",
       " <em class=\"ssg_price\">3,348</em>,\n",
       " <em class=\"ssg_price\">3,600</em>,\n",
       " <em class=\"ssg_price\">46,350</em>,\n",
       " <em class=\"ssg_price\">51,500</em>,\n",
       " <em class=\"ssg_price\">118,071</em>,\n",
       " <em class=\"ssg_price\">131,190</em>,\n",
       " <em class=\"ssg_price\">138,375</em>,\n",
       " <em class=\"ssg_price\">153,750</em>,\n",
       " <em class=\"ssg_price\">143,685</em>,\n",
       " <em class=\"ssg_price\">159,650</em>,\n",
       " <em class=\"ssg_price\">148,752</em>,\n",
       " <em class=\"ssg_price\">165,280</em>,\n",
       " <em class=\"ssg_price\">174,870</em>,\n",
       " <em class=\"ssg_price\">194,300</em>,\n",
       " <em class=\"ssg_price\">177,426</em>,\n",
       " <em class=\"ssg_price\">197,140</em>,\n",
       " <em class=\"ssg_price\">275,112</em>,\n",
       " <em class=\"ssg_price\">305,680</em>]"
      ]
     },
     "execution_count": 57,
     "metadata": {},
     "output_type": "execute_result"
    }
   ],
   "source": [
    "emprice"
   ]
  },
  {
   "cell_type": "code",
   "execution_count": null,
   "metadata": {},
   "outputs": [],
   "source": []
  }
 ],
 "metadata": {
  "kernelspec": {
   "display_name": "Python 3",
   "language": "python",
   "name": "python3"
  },
  "language_info": {
   "codemirror_mode": {
    "name": "ipython",
    "version": 3
   },
   "file_extension": ".py",
   "mimetype": "text/x-python",
   "name": "python",
   "nbconvert_exporter": "python",
   "pygments_lexer": "ipython3",
   "version": "3.8.3"
  }
 },
 "nbformat": 4,
 "nbformat_minor": 4
}
