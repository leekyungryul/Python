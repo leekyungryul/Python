{
 "cells": [
  {
   "cell_type": "markdown",
   "metadata": {},
   "source": [
    "### 1. 라이브러리 선언"
   ]
  },
  {
   "cell_type": "code",
   "execution_count": 200,
   "metadata": {},
   "outputs": [],
   "source": [
    "import pandas as pd\n",
    "\n",
    "from selenium import webdriver"
   ]
  },
  {
   "cell_type": "markdown",
   "metadata": {},
   "source": [
    "### 2. 웹브라우저 설정 및 브라우저 팝업"
   ]
  },
  {
   "cell_type": "code",
   "execution_count": 201,
   "metadata": {},
   "outputs": [],
   "source": [
    "options = webdriver.ChromeOptions()\n",
    "\n",
    "# 헤드리스 옵션 / 일반옵션\n",
    "# 헤드리스 = 브라우저를 띄우지 않고 작업\n",
    "options.add_argument(\"window-size=1920x1080\") \n",
    "# pypi.org\n",
    "\n",
    "driverLoc = \"../addon/chromedriver/chromedriver.exe\"\n",
    "\n",
    "driver = webdriver.Chrome(executable_path=driverLoc, options = options)\n",
    "\n",
    "# 웹페이지 파싱될때가지 최대 3초 기다림\n",
    "driver.implicitly_wait(3)\n",
    "\n",
    "# 사용할 브라구저를 선택(크롬)\n",
    "# 브라우저의 드라이버를 다운(chrome)\n",
    "# 파이썬에서 셀레니움을 활용해서\n",
    "# chrome을 띄운다.(헤드리스 / 일반모드)\n",
    "# 헤드리스 => 리눅스(화면을띄우지 않고)"
   ]
  },
  {
   "cell_type": "markdown",
   "metadata": {},
   "source": [
    "### 3. 브라우저 열기"
   ]
  },
  {
   "cell_type": "code",
   "execution_count": 202,
   "metadata": {},
   "outputs": [],
   "source": [
    "targeturl = \"https://www.sparkkorea.com\"\n",
    "\n",
    "driver.get(targeturl)\n",
    "\n",
    "##### '#'은 ID '.'은 클래스를 의미한다."
   ]
  },
  {
   "cell_type": "markdown",
   "metadata": {},
   "source": [
    "### 4. 브라우저 내 액션(클릭)"
   ]
  },
  {
   "cell_type": "code",
   "execution_count": 203,
   "metadata": {},
   "outputs": [],
   "source": [
    "quizBtnXpath = '//*[@id=\"menu-item-382\"]/a'\n",
    "# 쌍따움표를 사용중이므로 홑따움표로 감싼다.\n",
    "\n",
    "quizBtn = driver.find_element_by_xpath(quizBtnXpath)\n",
    "\n",
    "quizBtn.click()"
   ]
  },
  {
   "cell_type": "markdown",
   "metadata": {},
   "source": [
    "### 4-1. 브라우저 내 액션(텍스트 입력)"
   ]
  },
  {
   "cell_type": "code",
   "execution_count": 126,
   "metadata": {},
   "outputs": [],
   "source": [
    "from selenium.webdriver.common.keys import Keys"
   ]
  },
  {
   "cell_type": "code",
   "execution_count": 138,
   "metadata": {},
   "outputs": [
    {
     "data": {
      "text/plain": [
       "'\\ue007'"
      ]
     },
     "execution_count": 138,
     "metadata": {},
     "output_type": "execute_result"
    }
   ],
   "source": [
    "Keys.ENTER\n",
    "# 컴퓨터가 알아듣는 명령어는 아래와같다."
   ]
  },
  {
   "cell_type": "code",
   "execution_count": 127,
   "metadata": {},
   "outputs": [],
   "source": [
    "googleUrl = \"http://www.google.com\""
   ]
  },
  {
   "cell_type": "code",
   "execution_count": 128,
   "metadata": {},
   "outputs": [],
   "source": [
    "driver.get(googleUrl)"
   ]
  },
  {
   "cell_type": "code",
   "execution_count": 129,
   "metadata": {},
   "outputs": [],
   "source": [
    "googleSearchXpath = \"/html/body/div[1]/div[3]/form/div[1]/div[1]/div[1]/div/div[2]/input\""
   ]
  },
  {
   "cell_type": "code",
   "execution_count": 130,
   "metadata": {},
   "outputs": [],
   "source": [
    "googleSearchBox = driver.find_element_by_xpath(googleSearchXpath)"
   ]
  },
  {
   "cell_type": "code",
   "execution_count": 131,
   "metadata": {},
   "outputs": [],
   "source": [
    "searchKeyword = \"스마트금융과\""
   ]
  },
  {
   "cell_type": "code",
   "execution_count": 132,
   "metadata": {},
   "outputs": [],
   "source": [
    "googleSearchBox.send_keys(searchKeyword)"
   ]
  },
  {
   "cell_type": "code",
   "execution_count": 133,
   "metadata": {},
   "outputs": [],
   "source": [
    "googleSearchBox.send_keys(Keys.ENTER)"
   ]
  },
  {
   "cell_type": "markdown",
   "metadata": {},
   "source": [
    "### 5. 페이지 url및 소스 가져오기"
   ]
  },
  {
   "cell_type": "code",
   "execution_count": 134,
   "metadata": {},
   "outputs": [],
   "source": [
    "finalUrl = driver.current_url"
   ]
  },
  {
   "cell_type": "code",
   "execution_count": 135,
   "metadata": {},
   "outputs": [],
   "source": [
    "pgSource = driver.page_source"
   ]
  },
  {
   "cell_type": "code",
   "execution_count": null,
   "metadata": {},
   "outputs": [],
   "source": []
  },
  {
   "cell_type": "markdown",
   "metadata": {},
   "source": [
    "### 6. bs4가 치고나가야할 시점"
   ]
  },
  {
   "cell_type": "code",
   "execution_count": 123,
   "metadata": {},
   "outputs": [],
   "source": [
    "import bs4"
   ]
  },
  {
   "cell_type": "code",
   "execution_count": 124,
   "metadata": {},
   "outputs": [],
   "source": [
    "bsObj = bs4.BeautifulSoup(pgSource,\"html.parser\")"
   ]
  },
  {
   "cell_type": "markdown",
   "metadata": {},
   "source": [
    "### 7. 이메일 자동전송"
   ]
  },
  {
   "cell_type": "code",
   "execution_count": 1,
   "metadata": {},
   "outputs": [
    {
     "data": {
      "text/plain": [
       "(235, b'2.7.0 Accepted')"
      ]
     },
     "execution_count": 1,
     "metadata": {},
     "output_type": "execute_result"
    }
   ],
   "source": [
    "# SMTP 프로토콜 로드\n",
    "import smtplib\n",
    "\n",
    "# 이메일을 간단하게 보낼수 있는 라이브러리 로드\n",
    "from email.message import EmailMessage\n",
    "\n",
    "# import pickle\n",
    "# pw = \"password\"    \n",
    "# pickle.dump(pw, open(\"pw.pickle\", 'wb'))\n",
    "# pw = pickle.load(open('pw.pickle', 'rb'))\n",
    "\n",
    "# GMAIL 메일 설정\n",
    "smtp_gmail = smtplib.SMTP('smtp.gmail.com', 587)\n",
    "\n",
    "# 서버 연결을 설정하는 단계\n",
    "smtp_gmail.ehlo()\n",
    " \n",
    "# 연결을 암호화\n",
    "smtp_gmail.starttls()\n",
    "\n",
    "# userid = \"haiteamm@gmail.com\"\n",
    "# import getpass\n",
    "# mypass = getpass.getpass()\n",
    "# userpw = mypass\n",
    "\n",
    "#로그인 아이디 / 앱 비밀번호\n",
    "\n",
    "# import getpass\n",
    "# userpw = getpass.getpass()\n",
    "# # 테스트용이지 실제론 쓸일없다\n",
    "\n",
    "userid = \"leekyung1111\"\n",
    "userpw = \"gyqreowyutvvlbbk\"\n",
    "smtp_gmail.login(userid, userpw)"
   ]
  },
  {
   "cell_type": "code",
   "execution_count": 2,
   "metadata": {},
   "outputs": [
    {
     "data": {
      "text/html": [
       "<div>\n",
       "<style scoped>\n",
       "    .dataframe tbody tr th:only-of-type {\n",
       "        vertical-align: middle;\n",
       "    }\n",
       "\n",
       "    .dataframe tbody tr th {\n",
       "        vertical-align: top;\n",
       "    }\n",
       "\n",
       "    .dataframe thead th {\n",
       "        text-align: right;\n",
       "    }\n",
       "</style>\n",
       "<table border=\"1\" class=\"dataframe\">\n",
       "  <thead>\n",
       "    <tr style=\"text-align: right;\">\n",
       "      <th></th>\n",
       "      <th>이름</th>\n",
       "      <th>이메일</th>\n",
       "    </tr>\n",
       "  </thead>\n",
       "  <tbody>\n",
       "    <tr>\n",
       "      <th>0</th>\n",
       "      <td>이경율</td>\n",
       "      <td>leekyung1111@naver.com</td>\n",
       "    </tr>\n",
       "    <tr>\n",
       "      <th>1</th>\n",
       "      <td>이경율2</td>\n",
       "      <td>leekyung1111@gmail.com</td>\n",
       "    </tr>\n",
       "  </tbody>\n",
       "</table>\n",
       "</div>"
      ],
      "text/plain": [
       "     이름                       이메일\n",
       "0   이경율    leekyung1111@naver.com\n",
       "1  이경율2   leekyung1111@gmail.com "
      ]
     },
     "execution_count": 2,
     "metadata": {},
     "output_type": "execute_result"
    }
   ],
   "source": [
    "import pandas as pd\n",
    "emailList =pd.read_csv(\"./emailaddress.csv\")\n",
    "# emaillist = pd.read_csv(\"./emailaddress.csv\", encoding='ms949')\n",
    "emailList"
   ]
  },
  {
   "cell_type": "code",
   "execution_count": 3,
   "metadata": {},
   "outputs": [
    {
     "data": {
      "text/plain": [
       "['이름', ' 이메일']"
      ]
     },
     "execution_count": 3,
     "metadata": {},
     "output_type": "execute_result"
    }
   ],
   "source": [
    "dataList = list(emailList.columns)\n",
    "dataList"
   ]
  },
  {
   "cell_type": "code",
   "execution_count": 4,
   "metadata": {},
   "outputs": [
    {
     "data": {
      "text/plain": [
       "['이름', '이메일']"
      ]
     },
     "execution_count": 4,
     "metadata": {},
     "output_type": "execute_result"
    }
   ],
   "source": [
    "for i in range(0, len(dataList)):\n",
    "    dataList[i] = dataList[i].replace(\" \",\"\")\n",
    "dataList"
   ]
  },
  {
   "cell_type": "code",
   "execution_count": 5,
   "metadata": {},
   "outputs": [],
   "source": [
    "emailList.columns = dataList"
   ]
  },
  {
   "cell_type": "code",
   "execution_count": 6,
   "metadata": {},
   "outputs": [],
   "source": [
    "tagetColumn = \"이메일\""
   ]
  },
  {
   "cell_type": "code",
   "execution_count": 7,
   "metadata": {},
   "outputs": [
    {
     "data": {
      "text/plain": [
       "[' leekyung1111@naver.com', ' leekyung1111@gmail.com ']"
      ]
     },
     "execution_count": 7,
     "metadata": {},
     "output_type": "execute_result"
    }
   ],
   "source": [
    "# emailList.이메일.tolist()\n",
    "to = emailList[tagetColumn].tolist()\n",
    "to"
   ]
  },
  {
   "cell_type": "code",
   "execution_count": 8,
   "metadata": {},
   "outputs": [
    {
     "data": {
      "text/plain": [
       "['leekyung1111@naver.com', 'leekyung1111@gmail.com']"
      ]
     },
     "execution_count": 8,
     "metadata": {},
     "output_type": "execute_result"
    }
   ],
   "source": [
    "for i in range(0,len(to)):\n",
    "    to[i] = to[i].replace(\" \",\"\")\n",
    "to"
   ]
  },
  {
   "cell_type": "code",
   "execution_count": 9,
   "metadata": {},
   "outputs": [],
   "source": [
    "# 저장된 csv 파일 불러오기\n",
    "# emaillist = pd.read_csv(\"./emailaddress.csv\", encoding='ms949')\n",
    "# emaillist\n",
    "# 이메일 주소정보 리스트 변환\n",
    "# to = emaillist['이메일'].tolist()\n",
    "# to\n",
    "\n",
    "# to = [\"haiteam@kopo.ac.kr\", \"haiteam@naver.com\"]\n",
    "\n",
    "### 4. 메일전송\n",
    "\n",
    "msg=EmailMessage()\n",
    "\n",
    "# 제목 입력\n",
    "msg['Subject']=\"퀴즈 정보\"\n",
    " \n",
    "# 내용 입력\n",
    "msg.set_content(\"퀴즈정보\")\n",
    " \n",
    "# 보내는 사람\n",
    "msg['From']='leekyung1111@gmail.com'\n",
    " \n",
    "# 받는 사람\n",
    "msg['To'] = \",\".join(to)\n",
    "\n",
    "\",\".join(to)\n",
    "\n",
    "# 첨부파일 추가\n",
    "# file='0318_오후2.png'\n",
    "# fp = open(file,'rb')\n",
    "# file_data=fp.read()\n",
    "# msg.add_attachment(file_data,\n",
    "#                    maintype='text',\n",
    "#                    subtype='plain',\n",
    "#                    filename=file)\n",
    "file='emailaddress.csv'\n",
    "fp = open(file,'rb')\n",
    "file_data=fp.read()\n",
    "\n",
    "msg.add_attachment(file_data,\n",
    "                   maintype='text',\n",
    "                   subtype='plain',\n",
    "                   filename=file)\n",
    "# 메일 전송\n",
    "smtp_gmail.send_message(msg)\n",
    "smtp_gmail.close()"
   ]
  },
  {
   "cell_type": "code",
   "execution_count": null,
   "metadata": {},
   "outputs": [],
   "source": []
  },
  {
   "cell_type": "code",
   "execution_count": null,
   "metadata": {},
   "outputs": [],
   "source": []
  }
 ],
 "metadata": {
  "kernelspec": {
   "display_name": "Python 3",
   "language": "python",
   "name": "python3"
  },
  "language_info": {
   "codemirror_mode": {
    "name": "ipython",
    "version": 3
   },
   "file_extension": ".py",
   "mimetype": "text/x-python",
   "name": "python",
   "nbconvert_exporter": "python",
   "pygments_lexer": "ipython3",
   "version": "3.8.3"
  }
 },
 "nbformat": 4,
 "nbformat_minor": 4
}
