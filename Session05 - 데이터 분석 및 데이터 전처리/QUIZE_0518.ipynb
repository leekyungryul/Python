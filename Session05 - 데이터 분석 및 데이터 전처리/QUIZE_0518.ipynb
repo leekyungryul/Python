{
 "cells": [
  {
   "cell_type": "code",
   "execution_count": 5,
   "metadata": {},
   "outputs": [],
   "source": [
    "import pandas as pd"
   ]
  },
  {
   "cell_type": "code",
   "execution_count": 6,
   "metadata": {},
   "outputs": [],
   "source": [
    "selloutData = pd.read_csv(\"../dataset/kopo_channel_seasonality_new.csv\")"
   ]
  },
  {
   "cell_type": "code",
   "execution_count": 7,
   "metadata": {},
   "outputs": [
    {
     "data": {
      "text/html": [
       "<div>\n",
       "<style scoped>\n",
       "    .dataframe tbody tr th:only-of-type {\n",
       "        vertical-align: middle;\n",
       "    }\n",
       "\n",
       "    .dataframe tbody tr th {\n",
       "        vertical-align: top;\n",
       "    }\n",
       "\n",
       "    .dataframe thead th {\n",
       "        text-align: right;\n",
       "    }\n",
       "</style>\n",
       "<table border=\"1\" class=\"dataframe\">\n",
       "  <thead>\n",
       "    <tr style=\"text-align: right;\">\n",
       "      <th></th>\n",
       "      <th>REGIONID</th>\n",
       "      <th>PRODUCT</th>\n",
       "      <th>YEARWEEK</th>\n",
       "      <th>QTY</th>\n",
       "    </tr>\n",
       "  </thead>\n",
       "  <tbody>\n",
       "    <tr>\n",
       "      <th>0</th>\n",
       "      <td>A60</td>\n",
       "      <td>PRODUCT4</td>\n",
       "      <td>201402</td>\n",
       "      <td>71.0</td>\n",
       "    </tr>\n",
       "    <tr>\n",
       "      <th>1</th>\n",
       "      <td>A60</td>\n",
       "      <td>PRODUCT59</td>\n",
       "      <td>201402</td>\n",
       "      <td>22275.0</td>\n",
       "    </tr>\n",
       "  </tbody>\n",
       "</table>\n",
       "</div>"
      ],
      "text/plain": [
       "  REGIONID    PRODUCT  YEARWEEK      QTY\n",
       "0      A60   PRODUCT4    201402     71.0\n",
       "1      A60  PRODUCT59    201402  22275.0"
      ]
     },
     "execution_count": 7,
     "metadata": {},
     "output_type": "execute_result"
    }
   ],
   "source": [
    "selloutData.head(2)"
   ]
  },
  {
   "cell_type": "markdown",
   "metadata": {},
   "source": [
    "1. A01지역의 2015년도 제품별 평균판매량이 가장 높은 상품 3개는? (콤마로 구분하여 작성, 예: PRODUCT12,PRODUCT2,PRODUCT3)"
   ]
  },
  {
   "cell_type": "markdown",
   "metadata": {},
   "source": [
    "ORDER BY해서 INDEXNO +1(새로운 컬럼 생성)\n",
    "새로운 컬럼을 SEQUENTIAL하게 생성\n",
    "RANK >= TARGETRANK 처리한다.\n",
    "\n",
    "STEP1: 지역, 연도 , 제품을 키로 그룹평균 산출\n",
    "STEP2: 필터(조건1: A01지역, 조건2: 2015년도)\n",
    "STEP3: RANK커럼추가\n",
    "STEP4 RANK >= TARGETRANK 처리한다."
   ]
  },
  {
   "cell_type": "code",
   "execution_count": 8,
   "metadata": {},
   "outputs": [
    {
     "ename": "AttributeError",
     "evalue": "'DataFrame' object has no attribute 'YEAR'",
     "output_type": "error",
     "traceback": [
      "\u001b[1;31m---------------------------------------------------------------------------\u001b[0m",
      "\u001b[1;31mAttributeError\u001b[0m                            Traceback (most recent call last)",
      "\u001b[1;32m<ipython-input-8-9447152b2c5f>\u001b[0m in \u001b[0;36m<module>\u001b[1;34m\u001b[0m\n\u001b[0;32m      1\u001b[0m \u001b[0mselloutData1\u001b[0m \u001b[1;33m=\u001b[0m \u001b[0mselloutData\u001b[0m\u001b[1;33m.\u001b[0m\u001b[0mloc\u001b[0m\u001b[1;33m[\u001b[0m\u001b[0mselloutData\u001b[0m\u001b[1;33m.\u001b[0m\u001b[0mREGIONID\u001b[0m \u001b[1;33m==\u001b[0m \u001b[1;34m'A01'\u001b[0m\u001b[1;33m]\u001b[0m\u001b[1;33m\u001b[0m\u001b[1;33m\u001b[0m\u001b[0m\n\u001b[1;32m----> 2\u001b[1;33m \u001b[0mselloutData2\u001b[0m \u001b[1;33m=\u001b[0m \u001b[0mselloutData1\u001b[0m\u001b[1;33m.\u001b[0m\u001b[0mloc\u001b[0m\u001b[1;33m[\u001b[0m\u001b[0mselloutData\u001b[0m\u001b[1;33m.\u001b[0m\u001b[0mYEAR\u001b[0m \u001b[1;33m==\u001b[0m \u001b[1;34m'2015'\u001b[0m\u001b[1;33m]\u001b[0m\u001b[1;33m\u001b[0m\u001b[1;33m\u001b[0m\u001b[0m\n\u001b[0m\u001b[0;32m      3\u001b[0m \u001b[0mselloutData2\u001b[0m\u001b[1;33m\u001b[0m\u001b[1;33m\u001b[0m\u001b[0m\n\u001b[0;32m      4\u001b[0m \u001b[1;31m# selloutData2.PRODUCT.drop_duplicates()\u001b[0m\u001b[1;33m\u001b[0m\u001b[1;33m\u001b[0m\u001b[1;33m\u001b[0m\u001b[0m\n\u001b[0;32m      5\u001b[0m \u001b[0msortKey\u001b[0m \u001b[1;33m=\u001b[0m \u001b[1;33m[\u001b[0m\u001b[1;34m\"QTY\"\u001b[0m\u001b[1;33m]\u001b[0m\u001b[1;33m\u001b[0m\u001b[1;33m\u001b[0m\u001b[0m\n",
      "\u001b[1;32m~\\Anaconda3\\lib\\site-packages\\pandas\\core\\generic.py\u001b[0m in \u001b[0;36m__getattr__\u001b[1;34m(self, name)\u001b[0m\n\u001b[0;32m   5272\u001b[0m             \u001b[1;32mif\u001b[0m \u001b[0mself\u001b[0m\u001b[1;33m.\u001b[0m\u001b[0m_info_axis\u001b[0m\u001b[1;33m.\u001b[0m\u001b[0m_can_hold_identifiers_and_holds_name\u001b[0m\u001b[1;33m(\u001b[0m\u001b[0mname\u001b[0m\u001b[1;33m)\u001b[0m\u001b[1;33m:\u001b[0m\u001b[1;33m\u001b[0m\u001b[1;33m\u001b[0m\u001b[0m\n\u001b[0;32m   5273\u001b[0m                 \u001b[1;32mreturn\u001b[0m \u001b[0mself\u001b[0m\u001b[1;33m[\u001b[0m\u001b[0mname\u001b[0m\u001b[1;33m]\u001b[0m\u001b[1;33m\u001b[0m\u001b[1;33m\u001b[0m\u001b[0m\n\u001b[1;32m-> 5274\u001b[1;33m             \u001b[1;32mreturn\u001b[0m \u001b[0mobject\u001b[0m\u001b[1;33m.\u001b[0m\u001b[0m__getattribute__\u001b[0m\u001b[1;33m(\u001b[0m\u001b[0mself\u001b[0m\u001b[1;33m,\u001b[0m \u001b[0mname\u001b[0m\u001b[1;33m)\u001b[0m\u001b[1;33m\u001b[0m\u001b[1;33m\u001b[0m\u001b[0m\n\u001b[0m\u001b[0;32m   5275\u001b[0m \u001b[1;33m\u001b[0m\u001b[0m\n\u001b[0;32m   5276\u001b[0m     \u001b[1;32mdef\u001b[0m \u001b[0m__setattr__\u001b[0m\u001b[1;33m(\u001b[0m\u001b[0mself\u001b[0m\u001b[1;33m,\u001b[0m \u001b[0mname\u001b[0m\u001b[1;33m:\u001b[0m \u001b[0mstr\u001b[0m\u001b[1;33m,\u001b[0m \u001b[0mvalue\u001b[0m\u001b[1;33m)\u001b[0m \u001b[1;33m->\u001b[0m \u001b[1;32mNone\u001b[0m\u001b[1;33m:\u001b[0m\u001b[1;33m\u001b[0m\u001b[1;33m\u001b[0m\u001b[0m\n",
      "\u001b[1;31mAttributeError\u001b[0m: 'DataFrame' object has no attribute 'YEAR'"
     ]
    }
   ],
   "source": [
    "selloutData1 = selloutData.loc[selloutData.REGIONID == 'A01']\n",
    "selloutData2 = selloutData1.loc[selloutData.YEAR == '2015']\n",
    "selloutData2\n",
    "# selloutData2.PRODUCT.drop_duplicates()\n",
    "sortKey = [\"QTY\"]\n",
    "sortedData = selloutData2.sort_values(by=sortKey,\n",
    "                                     ascending=[False],\n",
    "                                     inplace=False)\n",
    "sortedData"
   ]
  },
  {
   "cell_type": "markdown",
   "metadata": {},
   "source": [
    "2. 2015년도 A01 지역에서 생산한 제품의 종류는 몇종인가요?"
   ]
  },
  {
   "cell_type": "markdown",
   "metadata": {},
   "source": [
    "STEP1: 변수선언\n",
    "TARGETYEAR: 2015\n",
    "TARGETREGION: A01\n",
    "STEP2: 데이터 필터:(변수선언조건 활용)\n",
    "STEP3: 제품기준 DISTINCT ->(DROP_DUPLICATES())\n",
    "        OR  제춤키를 기준으로 그룹바이"
   ]
  },
  {
   "cell_type": "code",
   "execution_count": null,
   "metadata": {},
   "outputs": [],
   "source": [
    "Product = selloutData1.PRODUCT.drop_duplicates()\n",
    "\n",
    "len(Product)"
   ]
  },
  {
   "cell_type": "markdown",
   "metadata": {},
   "source": [
    "3. 2015년도 1사분기 (1~13주) 평균 판매량이 가장 높은 지역 5개를 순서대로 적어주세요 (예: A01, A02,A03,A04,A05), 띄어쓰기 없이 다 붙여서!!"
   ]
  },
  {
   "cell_type": "code",
   "execution_count": null,
   "metadata": {},
   "outputs": [],
   "source": [
    "groupKey = [\"REGIONID\",\"PRODUCT\",\"WEEK\"]\n",
    "groupData = selloutData.groupby(groupKey)[[\"QTY\"]].agg(\"mean\")\n",
    "groupData = groupData.rename(columns = {'QTY':'QTY_MEAN'})\n",
    "groupData.head(20)\n",
    "# Data2015 = groupData.loc[selloutData.WEEK.astype(int) < 14 ]\n",
    "# Data2015"
   ]
  },
  {
   "cell_type": "markdown",
   "metadata": {},
   "source": [
    "STEP1: 변수선언\n",
    "TARGETYEAR: 2015\n",
    "TARGETREGION: 1~13\n",
    "STEP2: 그룹키(지역) 그룹함수(MEAN)\n",
    "STEP3: 데이터 필터:(변수선언조건 활용)\n",
    "STEP4: 정렬 AND RANK\n",
    "STEP5: RANK >= TARGETRANK"
   ]
  },
  {
   "cell_type": "markdown",
   "metadata": {},
   "source": [
    "4. 생각해볼 문제 (지역, 상품, 분기별 평균 판매량을 산출하세요) 분기는 1~13, 14~26, 27~39, 40~52 로 구분 (53 제외)"
   ]
  },
  {
   "cell_type": "code",
   "execution_count": null,
   "metadata": {},
   "outputs": [],
   "source": [
    "Data2015_1 = refinedSelloutData.loc[selloutData.WEEK.astype(int) <= Q1 ]\n",
    "Data2015_1\n",
    "groupKey = [\"REGIONID\",\"PRODUCT\"]\n",
    "groupData = Data2015_1.groupby(groupKey)[[\"QTY\"]].agg(\"mean\")\n",
    "groupData_1 = groupData.rename(columns = {'QTY':'QTY_MEAN'})\n",
    "groupData_1\n",
    "\n",
    "Data2015_234 = refinedSelloutData.loc[selloutData.WEEK.astype(int) > 13 ]\n",
    "Data2015_2 = Data2015_234.loc[selloutData.WEEK.astype(int) < 27 ]\n",
    "groupKey = [\"REGIONID\",\"PRODUCT\"]\n",
    "groupData = Data2015_2.groupby(groupKey)[[\"QTY\"]].agg(\"mean\")\n",
    "groupData_2 = groupData.rename(columns = {'QTY':'QTY_MEAN'})\n",
    "groupData_2\n",
    "\n",
    "Data2015_34 = refinedSelloutData.loc[selloutData.WEEK.astype(int) > 26 ]\n",
    "Data2015_3 = Data2015_34.loc[selloutData.WEEK.astype(int) < 40 ]\n",
    "groupKey = [\"REGIONID\",\"PRODUCT\"]\n",
    "groupData = Data2015_3.groupby(groupKey)[[\"QTY\"]].agg(\"mean\")\n",
    "groupData_3 = groupData.rename(columns = {'QTY':'QTY_MEAN'})\n",
    "groupData_3\n",
    "\n",
    "Data2015_4_1 = refinedSelloutData.loc[selloutData.WEEK.astype(int) > 39 ]\n",
    "Data2015_4 = Data2015_4_1.loc[selloutData.WEEK.astype(int) < 53 ]\n",
    "groupKey = [\"REGIONID\",\"PRODUCT\"]\n",
    "groupData = Data2015_4.groupby(groupKey)[[\"QTY\"]].agg(\"mean\")\n",
    "groupData_4 = groupData.rename(columns = {'QTY':'QTY_MEAN'})\n",
    "groupData_4"
   ]
  }
 ],
 "metadata": {
  "kernelspec": {
   "display_name": "Python 3",
   "language": "python",
   "name": "python3"
  },
  "language_info": {
   "codemirror_mode": {
    "name": "ipython",
    "version": 3
   },
   "file_extension": ".py",
   "mimetype": "text/x-python",
   "name": "python",
   "nbconvert_exporter": "python",
   "pygments_lexer": "ipython3",
   "version": "3.8.3"
  }
 },
 "nbformat": 4,
 "nbformat_minor": 4
}
