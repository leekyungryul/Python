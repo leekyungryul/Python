{
 "cells": [
  {
   "cell_type": "markdown",
   "metadata": {},
   "source": [
    "### 1. 라이브러리 선언하기"
   ]
  },
  {
   "cell_type": "code",
   "execution_count": 2,
   "metadata": {},
   "outputs": [],
   "source": [
    "import pandas as pd\n",
    "import numpy as np"
   ]
  },
  {
   "cell_type": "code",
   "execution_count": 3,
   "metadata": {},
   "outputs": [],
   "source": [
    "selloutData =  \\\n",
    "    pd.read_csv(\"../dataset/kopo_channel_seasonality_new.csv\")"
   ]
  },
  {
   "cell_type": "code",
   "execution_count": 4,
   "metadata": {},
   "outputs": [
    {
     "data": {
      "text/html": [
       "<div>\n",
       "<style scoped>\n",
       "    .dataframe tbody tr th:only-of-type {\n",
       "        vertical-align: middle;\n",
       "    }\n",
       "\n",
       "    .dataframe tbody tr th {\n",
       "        vertical-align: top;\n",
       "    }\n",
       "\n",
       "    .dataframe thead th {\n",
       "        text-align: right;\n",
       "    }\n",
       "</style>\n",
       "<table border=\"1\" class=\"dataframe\">\n",
       "  <thead>\n",
       "    <tr style=\"text-align: right;\">\n",
       "      <th></th>\n",
       "      <th>REGIONID</th>\n",
       "      <th>PRODUCT</th>\n",
       "      <th>YEARWEEK</th>\n",
       "      <th>QTY</th>\n",
       "    </tr>\n",
       "  </thead>\n",
       "  <tbody>\n",
       "    <tr>\n",
       "      <th>0</th>\n",
       "      <td>A60</td>\n",
       "      <td>PRODUCT4</td>\n",
       "      <td>201402</td>\n",
       "      <td>71.0</td>\n",
       "    </tr>\n",
       "    <tr>\n",
       "      <th>1</th>\n",
       "      <td>A60</td>\n",
       "      <td>PRODUCT59</td>\n",
       "      <td>201402</td>\n",
       "      <td>22275.0</td>\n",
       "    </tr>\n",
       "    <tr>\n",
       "      <th>2</th>\n",
       "      <td>A60</td>\n",
       "      <td>PRODUCT34</td>\n",
       "      <td>201402</td>\n",
       "      <td>4463.0</td>\n",
       "    </tr>\n",
       "    <tr>\n",
       "      <th>3</th>\n",
       "      <td>A60</td>\n",
       "      <td>PRODUCT47</td>\n",
       "      <td>201402</td>\n",
       "      <td>0.0</td>\n",
       "    </tr>\n",
       "    <tr>\n",
       "      <th>4</th>\n",
       "      <td>A60</td>\n",
       "      <td>PRODUCT56</td>\n",
       "      <td>201402</td>\n",
       "      <td>23.0</td>\n",
       "    </tr>\n",
       "    <tr>\n",
       "      <th>...</th>\n",
       "      <td>...</td>\n",
       "      <td>...</td>\n",
       "      <td>...</td>\n",
       "      <td>...</td>\n",
       "    </tr>\n",
       "    <tr>\n",
       "      <th>124653</th>\n",
       "      <td>A10</td>\n",
       "      <td>PRODUCT60</td>\n",
       "      <td>201630</td>\n",
       "      <td>824.0</td>\n",
       "    </tr>\n",
       "    <tr>\n",
       "      <th>124654</th>\n",
       "      <td>A10</td>\n",
       "      <td>PRODUCT56</td>\n",
       "      <td>201630</td>\n",
       "      <td>275.0</td>\n",
       "    </tr>\n",
       "    <tr>\n",
       "      <th>124655</th>\n",
       "      <td>A10</td>\n",
       "      <td>PRODUCT61</td>\n",
       "      <td>201630</td>\n",
       "      <td>0.0</td>\n",
       "    </tr>\n",
       "    <tr>\n",
       "      <th>124656</th>\n",
       "      <td>A10</td>\n",
       "      <td>PRODUCT12</td>\n",
       "      <td>201630</td>\n",
       "      <td>15021.0</td>\n",
       "    </tr>\n",
       "    <tr>\n",
       "      <th>124657</th>\n",
       "      <td>A10</td>\n",
       "      <td>PRODUCT1</td>\n",
       "      <td>201630</td>\n",
       "      <td>568.0</td>\n",
       "    </tr>\n",
       "  </tbody>\n",
       "</table>\n",
       "<p>124658 rows × 4 columns</p>\n",
       "</div>"
      ],
      "text/plain": [
       "       REGIONID    PRODUCT  YEARWEEK      QTY\n",
       "0           A60   PRODUCT4    201402     71.0\n",
       "1           A60  PRODUCT59    201402  22275.0\n",
       "2           A60  PRODUCT34    201402   4463.0\n",
       "3           A60  PRODUCT47    201402      0.0\n",
       "4           A60  PRODUCT56    201402     23.0\n",
       "...         ...        ...       ...      ...\n",
       "124653      A10  PRODUCT60    201630    824.0\n",
       "124654      A10  PRODUCT56    201630    275.0\n",
       "124655      A10  PRODUCT61    201630      0.0\n",
       "124656      A10  PRODUCT12    201630  15021.0\n",
       "124657      A10   PRODUCT1    201630    568.0\n",
       "\n",
       "[124658 rows x 4 columns]"
      ]
     },
     "execution_count": 4,
     "metadata": {},
     "output_type": "execute_result"
    }
   ],
   "source": [
    "selloutData"
   ]
  },
  {
   "cell_type": "code",
   "execution_count": 6,
   "metadata": {},
   "outputs": [
    {
     "data": {
      "text/html": [
       "<div>\n",
       "<style scoped>\n",
       "    .dataframe tbody tr th:only-of-type {\n",
       "        vertical-align: middle;\n",
       "    }\n",
       "\n",
       "    .dataframe tbody tr th {\n",
       "        vertical-align: top;\n",
       "    }\n",
       "\n",
       "    .dataframe thead th {\n",
       "        text-align: right;\n",
       "    }\n",
       "</style>\n",
       "<table border=\"1\" class=\"dataframe\">\n",
       "  <thead>\n",
       "    <tr style=\"text-align: right;\">\n",
       "      <th></th>\n",
       "      <th>YEARWEEK</th>\n",
       "      <th>QTY</th>\n",
       "    </tr>\n",
       "  </thead>\n",
       "  <tbody>\n",
       "    <tr>\n",
       "      <th>count</th>\n",
       "      <td>124658.00000</td>\n",
       "      <td>1.246580e+05</td>\n",
       "    </tr>\n",
       "    <tr>\n",
       "      <th>mean</th>\n",
       "      <td>201526.66879</td>\n",
       "      <td>8.949287e+03</td>\n",
       "    </tr>\n",
       "    <tr>\n",
       "      <th>std</th>\n",
       "      <td>82.77994</td>\n",
       "      <td>4.294973e+04</td>\n",
       "    </tr>\n",
       "    <tr>\n",
       "      <th>min</th>\n",
       "      <td>201401.00000</td>\n",
       "      <td>-3.640000e+02</td>\n",
       "    </tr>\n",
       "    <tr>\n",
       "      <th>25%</th>\n",
       "      <td>201440.00000</td>\n",
       "      <td>3.200000e+01</td>\n",
       "    </tr>\n",
       "    <tr>\n",
       "      <th>50%</th>\n",
       "      <td>201527.00000</td>\n",
       "      <td>2.820000e+02</td>\n",
       "    </tr>\n",
       "    <tr>\n",
       "      <th>75%</th>\n",
       "      <td>201613.00000</td>\n",
       "      <td>2.223000e+03</td>\n",
       "    </tr>\n",
       "    <tr>\n",
       "      <th>max</th>\n",
       "      <td>201652.00000</td>\n",
       "      <td>1.663206e+06</td>\n",
       "    </tr>\n",
       "  </tbody>\n",
       "</table>\n",
       "</div>"
      ],
      "text/plain": [
       "           YEARWEEK           QTY\n",
       "count  124658.00000  1.246580e+05\n",
       "mean   201526.66879  8.949287e+03\n",
       "std        82.77994  4.294973e+04\n",
       "min    201401.00000 -3.640000e+02\n",
       "25%    201440.00000  3.200000e+01\n",
       "50%    201527.00000  2.820000e+02\n",
       "75%    201613.00000  2.223000e+03\n",
       "max    201652.00000  1.663206e+06"
      ]
     },
     "execution_count": 6,
     "metadata": {},
     "output_type": "execute_result"
    }
   ],
   "source": [
    "# 숫자형 데이터에 대한 기본 통계량을 보여준다.\n",
    "selloutData.describe()"
   ]
  },
  {
   "cell_type": "code",
   "execution_count": null,
   "metadata": {},
   "outputs": [],
   "source": [
    "csDataTypeStr = customerData.astype({\"CUSTID\":str,\n",
    "                    \"AVGPRICE\":str,\n",
    "                    \"EMI\":str,\n",
    "                    \"DEVICECOUNT\":str,\n",
    "                    \"PRODUCTAGE\": str})"
   ]
  },
  {
   "cell_type": "code",
   "execution_count": 7,
   "metadata": {},
   "outputs": [
    {
     "data": {
      "text/plain": [
       "REGIONID     object\n",
       "PRODUCT      object\n",
       "YEARWEEK      int64\n",
       "QTY         float64\n",
       "dtype: object"
      ]
     },
     "execution_count": 7,
     "metadata": {},
     "output_type": "execute_result"
    }
   ],
   "source": [
    "selloutData.dtypes"
   ]
  },
  {
   "cell_type": "code",
   "execution_count": 8,
   "metadata": {},
   "outputs": [
    {
     "data": {
      "text/plain": [
       "REGIONID     object\n",
       "PRODUCT      object\n",
       "YEARWEEK     object\n",
       "QTY         float64\n",
       "dtype: object"
      ]
     },
     "execution_count": 8,
     "metadata": {},
     "output_type": "execute_result"
    }
   ],
   "source": [
    "selloutData.QTY = selloutData.QTY.astype(float)\n",
    "selloutData.REGIONID = selloutData.REGIONID.astype(str)\n",
    "selloutData.PRODUCT = selloutData.PRODUCT.astype(str)\n",
    "selloutData.YEARWEEK = selloutData.YEARWEEK.astype(str)\n",
    "\n",
    "selloutData.dtypes"
   ]
  },
  {
   "cell_type": "code",
   "execution_count": null,
   "metadata": {},
   "outputs": [],
   "source": []
  }
 ],
 "metadata": {
  "kernelspec": {
   "display_name": "Python 3",
   "language": "python",
   "name": "python3"
  },
  "language_info": {
   "codemirror_mode": {
    "name": "ipython",
    "version": 3
   },
   "file_extension": ".py",
   "mimetype": "text/x-python",
   "name": "python",
   "nbconvert_exporter": "python",
   "pygments_lexer": "ipython3",
   "version": "3.8.3"
  }
 },
 "nbformat": 4,
 "nbformat_minor": 4
}
